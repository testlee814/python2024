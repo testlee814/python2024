{
 "cells": [
  {
   "cell_type": "code",
   "execution_count": 4,
   "metadata": {},
   "outputs": [
    {
     "name": "stdout",
     "output_type": "stream",
     "text": [
      "大於等於60\n",
      "小於80\n"
     ]
    }
   ],
   "source": [
    "score = 60\n",
    "if score < 60:\n",
    "    print(\"小於60\")\n",
    "else:\n",
    "    if score <80:\n",
    "        print(\"大於等於60\")\n",
    "        print(\"小於80\")\n",
    "    else:\n",
    "        print(\"大於等於80\")\n",
    "    "
   ]
  },
  {
   "cell_type": "code",
   "execution_count": 5,
   "metadata": {},
   "outputs": [
    {
     "name": "stdout",
     "output_type": "stream",
     "text": [
      "大於等於60\n",
      "小於80\n"
     ]
    }
   ],
   "source": [
    "score = 60\n",
    "if score < 60:\n",
    "    print(\"小於60\")\n",
    "elif score <80:  #可以將else + if = elif 多項選擇\n",
    "    print(\"大於等於60\")\n",
    "    print(\"小於80\")\n",
    "else:\n",
    "    print(\"大於等於80\")"
   ]
  },
  {
   "cell_type": "code",
   "execution_count": 10,
   "metadata": {},
   "outputs": [
    {
     "name": "stdout",
     "output_type": "stream",
     "text": [
      "The score is 233\n",
      "The End\n"
     ]
    }
   ],
   "source": [
    "try: #Raise exception\n",
    "    scores = int(input(\"Please enter student's score.(limit is 300.)\"))\n",
    "    if scores <= 300 and scores >=0: \n",
    "        is_add = input(\"Is the student match extra score condition? (y,n)\")\n",
    "        if is_add == 'y':\n",
    "            #scores = scores * 1.05\n",
    "            scores *= 1.05  #單項選擇\n",
    "            if scores > 300:  #槽狀判斷\n",
    "                scores =300 \n",
    "        print(\"The score is\", round(scores))\n",
    "    else:\n",
    "        print(\"The score is over 300 and below 0\")\n",
    "except:\n",
    "    print(\"Format is wrong, please enter numbers!\")       \n",
    "\n",
    "print(\"The End\")"
   ]
  },
  {
   "cell_type": "code",
   "execution_count": 17,
   "metadata": {},
   "outputs": [
    {
     "name": "stdout",
     "output_type": "stream",
     "text": [
      "22.582709172343712\n"
     ]
    }
   ],
   "source": [
    "name = input(\"Please enter your name.\")\n",
    "height = int(input(\"Please enter your height\"))\n",
    "weight = int(input(\"Please enter your weight\"))\n",
    "\n",
    "BMI = weight / ((height/100)**2)\n",
    "\n",
    "print(BMI)\n"
   ]
  }
 ],
 "metadata": {
  "kernelspec": {
   "display_name": "Python 3",
   "language": "python",
   "name": "python3"
  },
  "language_info": {
   "codemirror_mode": {
    "name": "ipython",
    "version": 3
   },
   "file_extension": ".py",
   "mimetype": "text/x-python",
   "name": "python",
   "nbconvert_exporter": "python",
   "pygments_lexer": "ipython3",
   "version": "3.10.13"
  }
 },
 "nbformat": 4,
 "nbformat_minor": 2
}
