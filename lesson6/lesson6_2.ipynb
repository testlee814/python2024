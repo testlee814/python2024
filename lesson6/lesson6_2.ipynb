{
 "cells": [
  {
   "cell_type": "code",
   "execution_count": 4,
   "metadata": {},
   "outputs": [
    {
     "name": "stdout",
     "output_type": "stream",
     "text": [
      "大於等於60\n",
      "小於80\n"
     ]
    }
   ],
   "source": [
    "score = 60\n",
    "if score < 60:\n",
    "    print(\"小於60\")\n",
    "else:\n",
    "    if score <80:\n",
    "        print(\"大於等於60\")\n",
    "        print(\"小於80\")\n",
    "    else:\n",
    "        print(\"大於等於80\")\n",
    "    "
   ]
  },
  {
   "cell_type": "code",
   "execution_count": 5,
   "metadata": {},
   "outputs": [
    {
     "name": "stdout",
     "output_type": "stream",
     "text": [
      "大於等於60\n",
      "小於80\n"
     ]
    }
   ],
   "source": [
    "score = 60\n",
    "if score < 60:\n",
    "    print(\"小於60\")\n",
    "elif score <80:  #可以將else + if = elif 多項選擇\n",
    "    print(\"大於等於60\")\n",
    "    print(\"小於80\")\n",
    "else:\n",
    "    print(\"大於等於80\")"
   ]
  }
 ],
 "metadata": {
  "kernelspec": {
   "display_name": "Python 3",
   "language": "python",
   "name": "python3"
  },
  "language_info": {
   "codemirror_mode": {
    "name": "ipython",
    "version": 3
   },
   "file_extension": ".py",
   "mimetype": "text/x-python",
   "name": "python",
   "nbconvert_exporter": "python",
   "pygments_lexer": "ipython3",
   "version": "3.10.13"
  }
 },
 "nbformat": 4,
 "nbformat_minor": 2
}
