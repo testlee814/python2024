{
 "cells": [
  {
   "cell_type": "code",
   "execution_count": 2,
   "metadata": {},
   "outputs": [
    {
     "name": "stdout",
     "output_type": "stream",
     "text": [
      "rita !, Your BMI is 26.0\n",
      "你超過過重範圍囉 請好好運動吧!\n",
      "The End\n"
     ]
    }
   ],
   "source": [
    "try: #Raise exception\n",
    "    name = input(\"Please enter your name.\")\n",
    "    height = int(input(\"Please enter your height\"))\n",
    "    weight = int(input(\"Please enter your weight\"))\n",
    "\n",
    "    BMI = weight / ((height/100)**2)\n",
    "\n",
    "    print(name, \"!, Your BMI is\", round((BMI),1))\n",
    "\n",
    "    if BMI < 18.5:\n",
    "        print(\"太瘦了吧! 你的BMI低於18.5, 請多吃點!!\")\n",
    "    elif BMI <24:\n",
    "        print(\"恭喜你! 你的BMI在正常範圍內 請好好維持唷!!!\")\n",
    "    elif BMI <27:\n",
    "        print(\"你超過過重範圍囉 請好好運動吧!\")\n",
    "    elif BMI <30:\n",
    "        print(\"你是輕微肥胖者 請好好運動吧 好好減肥囉!\")\n",
    "    elif BMI <35:\n",
    "        print(\"你是中度肥胖者 請注意身體 開始減肥吧!\")       \n",
    "    else:\n",
    "        print(\"你是重度肥胖者 請保持緊戒 認真減肥吧! \")\n",
    "except:\n",
    "    print(\"Format is wrong, please enter numbers!\") \n",
    "print(\"The End\") "
   ]
  }
 ],
 "metadata": {
  "kernelspec": {
   "display_name": "Python 3",
   "language": "python",
   "name": "python3"
  },
  "language_info": {
   "codemirror_mode": {
    "name": "ipython",
    "version": 3
   },
   "file_extension": ".py",
   "mimetype": "text/x-python",
   "name": "python",
   "nbconvert_exporter": "python",
   "pygments_lexer": "ipython3",
   "version": "3.10.13"
  }
 },
 "nbformat": 4,
 "nbformat_minor": 2
}
