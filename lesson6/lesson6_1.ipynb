{
 "cells": [
  {
   "cell_type": "code",
   "execution_count": 1,
   "metadata": {},
   "outputs": [
    {
     "data": {
      "text/plain": [
       "True"
      ]
     },
     "execution_count": 1,
     "metadata": {},
     "output_type": "execute_result"
    }
   ],
   "source": [
    "5==5"
   ]
  },
  {
   "cell_type": "code",
   "execution_count": 6,
   "metadata": {},
   "outputs": [
    {
     "name": "stdout",
     "output_type": "stream",
     "text": [
      "Age is smaller than 20\n"
     ]
    }
   ],
   "source": [
    "age=17  #單項選擇\n",
    "if age >= 20:\n",
    "    print(\"vote please!\")\n",
    "    print(\"Drive please!\")\n",
    "print(\"Age is smaller than 20\")"
   ]
  },
  {
   "cell_type": "code",
   "execution_count": 7,
   "metadata": {},
   "outputs": [
    {
     "name": "stdout",
     "output_type": "stream",
     "text": [
      "You cannot vote!\n",
      "Please wait for 20 then Drive please!\n",
      "THE END\n"
     ]
    }
   ],
   "source": [
    "age=17  #雙項選擇\n",
    "if age >= 20:\n",
    "    print(\"vote please!\")\n",
    "    print(\"Drive please!\")\n",
    "else:\n",
    "    print(\"You cannot vote!\")\n",
    "    print(\"Please wait for 20 then Drive please!\")\n",
    "print(\"THE END\")"
   ]
  },
  {
   "cell_type": "code",
   "execution_count": 13,
   "metadata": {},
   "outputs": [
    {
     "name": "stdout",
     "output_type": "stream",
     "text": [
      "The score is 300\n"
     ]
    }
   ],
   "source": [
    "scores = int(input(\"Please enter student's score.(limit is 300.)\"))\n",
    "is_add = input(\"Is the student match extra score condition? (y,n)\")\n",
    "\n",
    "if is_add == 'y':\n",
    "    #scores = scores * 1.05\n",
    "    scores *= 1.05  #單項選擇\n",
    "    if scores > 300:  #槽狀判斷\n",
    "        scores =300 \n",
    "print(\"The score is\", round(scores))"
   ]
  }
 ],
 "metadata": {
  "kernelspec": {
   "display_name": "Python 3",
   "language": "python",
   "name": "python3"
  },
  "language_info": {
   "codemirror_mode": {
    "name": "ipython",
    "version": 3
   },
   "file_extension": ".py",
   "mimetype": "text/x-python",
   "name": "python",
   "nbconvert_exporter": "python",
   "pygments_lexer": "ipython3",
   "version": "3.10.13"
  }
 },
 "nbformat": 4,
 "nbformat_minor": 2
}
