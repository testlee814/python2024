{
 "cells": [
  {
   "cell_type": "code",
   "execution_count": 1,
   "metadata": {},
   "outputs": [
    {
     "data": {
      "text/plain": [
       "True"
      ]
     },
     "execution_count": 1,
     "metadata": {},
     "output_type": "execute_result"
    }
   ],
   "source": [
    "5==5"
   ]
  },
  {
   "cell_type": "code",
   "execution_count": 6,
   "metadata": {},
   "outputs": [
    {
     "name": "stdout",
     "output_type": "stream",
     "text": [
      "Age is smaller than 20\n"
     ]
    }
   ],
   "source": [
    "age=17  #單項選擇\n",
    "if age >= 20:\n",
    "    print(\"vote please!\")\n",
    "    print(\"Drive please!\")\n",
    "print(\"Age is smaller than 20\")"
   ]
  },
  {
   "cell_type": "code",
   "execution_count": 7,
   "metadata": {},
   "outputs": [
    {
     "name": "stdout",
     "output_type": "stream",
     "text": [
      "You cannot vote!\n",
      "Please wait for 20 then Drive please!\n",
      "THE END\n"
     ]
    }
   ],
   "source": [
    "age=17  #雙項選擇\n",
    "if age >= 20:\n",
    "    print(\"vote please!\")\n",
    "    print(\"Drive please!\")\n",
    "else:\n",
    "    print(\"You cannot vote!\")\n",
    "    print(\"Please wait for 20 then Drive please!\")\n",
    "print(\"THE END\")"
   ]
  },
  {
   "cell_type": "code",
   "execution_count": 32,
   "metadata": {},
   "outputs": [
    {
     "name": "stdout",
     "output_type": "stream",
     "text": [
      "The score is 231\n",
      "The End\n"
     ]
    }
   ],
   "source": [
    "try: #Raise exception\n",
    "    scores = int(input(\"Please enter student's score.(limit is 300.)\"))\n",
    "except:\n",
    "    print(\"Format is wrong, please enter numbers!\")\n",
    "else:\n",
    "    if not (scores <= 300 and scores >=0): \n",
    "        print(\"The scores is over 300 or below 0, please try again!\")\n",
    "    else:\n",
    "        is_add = input(\"Is the student match extra score condition? (y,n)\")\n",
    "        if is_add == 'y':\n",
    "            #scores = scores * 1.05\n",
    "            scores *= 1.05  #單項選擇\n",
    "            if scores > 300:  #槽狀判斷\n",
    "                scores =300 \n",
    "        print(\"The score is\", round(scores))\n",
    "           \n",
    "    print(\"The End\")"
   ]
  },
  {
   "cell_type": "code",
   "execution_count": 24,
   "metadata": {},
   "outputs": [],
   "source": [
    "score = 5975\n",
    "if score >=60:\n",
    "    if score < 80:\n",
    "        print(\"score is 60-79.\")\n"
   ]
  },
  {
   "cell_type": "code",
   "execution_count": 27,
   "metadata": {},
   "outputs": [
    {
     "name": "stdout",
     "output_type": "stream",
     "text": [
      "分數>= 80!\n"
     ]
    }
   ],
   "source": [
    "score = 89\n",
    "if score < 60:\n",
    "    print(\"不及格\")\n",
    "\n",
    "if score >= 80:\n",
    "    print(\"分數>= 80!\")"
   ]
  },
  {
   "cell_type": "code",
   "execution_count": 28,
   "metadata": {},
   "outputs": [
    {
     "name": "stdout",
     "output_type": "stream",
     "text": [
      "score is between 60-79.\n"
     ]
    }
   ],
   "source": [
    "score = 75\n",
    "if score >=60 and score <80:\n",
    "    print(\"score is between 60-79.\")"
   ]
  },
  {
   "cell_type": "code",
   "execution_count": 30,
   "metadata": {},
   "outputs": [
    {
     "name": "stdout",
     "output_type": "stream",
     "text": [
      "score is below 60 or over 80.\n"
     ]
    }
   ],
   "source": [
    "score = 85\n",
    "if score < 60 or score > 80:\n",
    "    print(\"score is below 60 or over 80.\")"
   ]
  }
 ],
 "metadata": {
  "kernelspec": {
   "display_name": "Python 3",
   "language": "python",
   "name": "python3"
  },
  "language_info": {
   "codemirror_mode": {
    "name": "ipython",
    "version": 3
   },
   "file_extension": ".py",
   "mimetype": "text/x-python",
   "name": "python",
   "nbconvert_exporter": "python",
   "pygments_lexer": "ipython3",
   "version": "3.10.13"
  }
 },
 "nbformat": 4,
 "nbformat_minor": 2
}
