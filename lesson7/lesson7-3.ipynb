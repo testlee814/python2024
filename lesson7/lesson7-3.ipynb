{
 "cells": [
  {
   "cell_type": "code",
   "execution_count": 2,
   "metadata": {},
   "outputs": [
    {
     "data": {
      "text/plain": [
       "__main__.Person"
      ]
     },
     "execution_count": 2,
     "metadata": {},
     "output_type": "execute_result"
    }
   ],
   "source": [
    "class Person():\n",
    "    pass \n",
    "p1 = Person()\n",
    "type(p1)"
   ]
  },
  {
   "cell_type": "code",
   "execution_count": 5,
   "metadata": {},
   "outputs": [
    {
     "name": "stdout",
     "output_type": "stream",
     "text": [
      "Rita\n",
      "Rita\n"
     ]
    }
   ],
   "source": [
    "class Person():\n",
    "    def __init__(self):\n",
    "        self.name = \"Rita\" \n",
    "p1 = Person()\n",
    "print(p1.name)\n",
    "\n",
    "p2 = Person()\n",
    "print(p2.name)\n",
    "\n"
   ]
  },
  {
   "cell_type": "code",
   "execution_count": 14,
   "metadata": {},
   "outputs": [
    {
     "name": "stdout",
     "output_type": "stream",
     "text": [
      "Rita\n",
      "Joy\n"
     ]
    }
   ],
   "source": [
    "class Person():\n",
    "    def __init__(self,n):  # 自訂的初始化\n",
    "        self.name = n # 建立attribute , 將n的值再傳給 name\n",
    "    def __repr__(self):\n",
    "        return \"我是Person的實體\"\n",
    "p1 = Person(\"Rita\")  # 要加入引數值 將值傳給n\n",
    "print(p1.name)\n",
    "\n",
    "p2 = Person(\"Joy\")\n",
    "print(p2.name)"
   ]
  },
  {
   "cell_type": "code",
   "execution_count": 18,
   "metadata": {},
   "outputs": [
    {
     "name": "stdout",
     "output_type": "stream",
     "text": [
      "This is person's attribute! My name is {name}\n",
      "我是Person的實體\n"
     ]
    }
   ],
   "source": [
    "print(p1)\n",
    "print(p2)"
   ]
  },
  {
   "cell_type": "code",
   "execution_count": 34,
   "metadata": {},
   "outputs": [
    {
     "name": "stdout",
     "output_type": "stream",
     "text": [
      "<class '__main__.Student'>\n",
      "Rita\n",
      "96\n",
      "This is student's attribute! My score is 96\n"
     ]
    }
   ],
   "source": [
    "class Person():\n",
    "    def __init__(self, n:str):  # n =參數\n",
    "        self.name = n\n",
    "        \n",
    "    def __repr__(self):\n",
    "        return f\"This is person's attribute! My name is {self.name}\"  #字串差補\n",
    "\n",
    "class Student(Person):  ##繼承父類別 Person, Student 是子類別\n",
    "    def __init__(self, name:str, scores:int):\n",
    "        super().__init__(name) # 執行父類別的initial\n",
    "        self.scores = scores\n",
    "    def __repr__(self):\n",
    "        return f\"This is student's attribute! My score is {self.scores}\"  #字串差補\n",
    "    \n",
    "s1 = Student(\"Rita\", 96)\n",
    "print(type(s1))\n",
    "print(s1.name)\n",
    "print(s1.scores)\n",
    "print(s1)"
   ]
  },
  {
   "cell_type": "code",
   "execution_count": 35,
   "metadata": {},
   "outputs": [
    {
     "name": "stdout",
     "output_type": "stream",
     "text": [
      "Rita\n",
      "This is person's attribute! My name is Rita\n"
     ]
    }
   ],
   "source": [
    "p1 = Person(\"Rita\")  #\"Rita\" 引數值\n",
    "print(p1.name)\n",
    "print(p1)\n",
    "\n"
   ]
  },
  {
   "cell_type": "code",
   "execution_count": 21,
   "metadata": {},
   "outputs": [
    {
     "data": {
      "text/plain": [
       "'My name is Rita'"
      ]
     },
     "execution_count": 21,
     "metadata": {},
     "output_type": "execute_result"
    }
   ],
   "source": [
    "name = \"Rita\"\n",
    "f\"My name is {name}\"  #字串差補\n",
    "\n",
    "\n"
   ]
  },
  {
   "cell_type": "code",
   "execution_count": 51,
   "metadata": {},
   "outputs": [
    {
     "name": "stdout",
     "output_type": "stream",
     "text": [
      "<class '__main__.Student'>\n"
     ]
    },
    {
     "ename": "AttributeError",
     "evalue": "can't set attribute 'chinese'",
     "output_type": "error",
     "traceback": [
      "\u001b[0;31m---------------------------------------------------------------------------\u001b[0m",
      "\u001b[0;31mAttributeError\u001b[0m                            Traceback (most recent call last)",
      "Cell \u001b[0;32mIn[51], line 40\u001b[0m\n\u001b[1;32m     37\u001b[0m s1 \u001b[38;5;241m=\u001b[39m Student(\u001b[38;5;124m\"\u001b[39m\u001b[38;5;124mRita\u001b[39m\u001b[38;5;124m\"\u001b[39m, \u001b[38;5;241m96\u001b[39m, \u001b[38;5;241m99\u001b[39m, \u001b[38;5;241m90\u001b[39m)\n\u001b[1;32m     38\u001b[0m \u001b[38;5;28mprint\u001b[39m(\u001b[38;5;28mtype\u001b[39m(s1))\n\u001b[0;32m---> 40\u001b[0m \u001b[43ms1\u001b[49m\u001b[38;5;241;43m.\u001b[39;49m\u001b[43mchinese\u001b[49m\u001b[38;5;241m=\u001b[39m\u001b[38;5;241m100\u001b[39m  \u001b[38;5;66;03m#可以被覆蓋\u001b[39;00m\n\u001b[1;32m     41\u001b[0m \u001b[38;5;66;03m#s1.english=100\u001b[39;00m\n\u001b[1;32m     42\u001b[0m \u001b[38;5;66;03m#s1.math=100\u001b[39;00m\n\u001b[1;32m     44\u001b[0m \u001b[38;5;28mprint\u001b[39m(s1\u001b[38;5;241m.\u001b[39mname)\n",
      "\u001b[0;31mAttributeError\u001b[0m: can't set attribute 'chinese'"
     ]
    }
   ],
   "source": [
    "class Person():\n",
    "    def __init__(self, n:str):  # n =參數\n",
    "        self.name = n\n",
    "        \n",
    "    def __repr__(self):\n",
    "        return f\"This is person's attribute! My name is {self.name}\"  #字串差補\n",
    "\n",
    "class Student(Person):  ##繼承父類別 Person, Student 是子類別\n",
    "    def __init__(self, name:str, chinese:int, english:int, math:int):\n",
    "        super().__init__(name) # 執行父類別的initial\n",
    "        self.__chinese = chinese  #加__的話就不能讀寫\n",
    "        self.__english = english\n",
    "        self.__math = math\n",
    "    \n",
    "    @property  # Property : Read only, 只能被讀取，無法修改\n",
    "    def chinese(self):\n",
    "        return self.__chinese \n",
    "\n",
    "    @property\n",
    "    def english(self):\n",
    "        return self.__english\n",
    "    \n",
    "    @property\n",
    "    def math(self):\n",
    "        return self.__math\n",
    "\n",
    "    def __repr__(self):  #representation\n",
    "        message = \"\"\n",
    "        message += \"This is Studen't attribute\\n\" \n",
    "        message += f\"My name is {self.name}\\n\"\n",
    "        message += f\"Chinese is {self.chinese}\\n\"\n",
    "        message += f\"English is {self.english}\\n\"\n",
    "        message += f\"Math is {self.math}\\n\"\n",
    "        return message\n",
    "\n",
    "    \n",
    "s1 = Student(\"Rita\", 96, 99, 90)\n",
    "print(type(s1))\n",
    "\n",
    "#s1.chinese=100  #可以被覆蓋\n",
    "#s1.english=100\n",
    "#s1.math=100\n",
    "\n",
    "print(s1.name)\n",
    "\n",
    "print(s1)"
   ]
  }
 ],
 "metadata": {
  "kernelspec": {
   "display_name": "Python 3",
   "language": "python",
   "name": "python3"
  },
  "language_info": {
   "codemirror_mode": {
    "name": "ipython",
    "version": 3
   },
   "file_extension": ".py",
   "mimetype": "text/x-python",
   "name": "python",
   "nbconvert_exporter": "python",
   "pygments_lexer": "ipython3",
   "version": "3.10.13"
  }
 },
 "nbformat": 4,
 "nbformat_minor": 2
}
