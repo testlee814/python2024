{
 "cells": [
  {
   "cell_type": "code",
   "execution_count": 2,
   "metadata": {},
   "outputs": [
    {
     "data": {
      "text/plain": [
       "__main__.Person"
      ]
     },
     "execution_count": 2,
     "metadata": {},
     "output_type": "execute_result"
    }
   ],
   "source": [
    "class Person():\n",
    "    pass \n",
    "p1 = Person()\n",
    "type(p1)"
   ]
  },
  {
   "cell_type": "code",
   "execution_count": 5,
   "metadata": {},
   "outputs": [
    {
     "name": "stdout",
     "output_type": "stream",
     "text": [
      "Rita\n",
      "Rita\n"
     ]
    }
   ],
   "source": [
    "class Person():\n",
    "    def __init__(self):\n",
    "        self.name = \"Rita\" \n",
    "p1 = Person()\n",
    "print(p1.name)\n",
    "\n",
    "p2 = Person()\n",
    "print(p2.name)\n",
    "\n"
   ]
  },
  {
   "cell_type": "code",
   "execution_count": 14,
   "metadata": {},
   "outputs": [
    {
     "name": "stdout",
     "output_type": "stream",
     "text": [
      "Rita\n",
      "Joy\n"
     ]
    }
   ],
   "source": [
    "class Person():\n",
    "    def __init__(self,n):  # 自訂的初始化\n",
    "        self.name = n # 建立attribute , 將n的值再傳給 name\n",
    "    def __repr__(self):\n",
    "        return \"我是Person的實體\"\n",
    "p1 = Person(\"Rita\")  # 要加入引數值 將值傳給n\n",
    "print(p1.name)\n",
    "\n",
    "p2 = Person(\"Joy\")\n",
    "print(p2.name)"
   ]
  },
  {
   "cell_type": "code",
   "execution_count": 18,
   "metadata": {},
   "outputs": [
    {
     "name": "stdout",
     "output_type": "stream",
     "text": [
      "This is person's attribute! My name is {name}\n",
      "我是Person的實體\n"
     ]
    }
   ],
   "source": [
    "print(p1)\n",
    "print(p2)"
   ]
  },
  {
   "cell_type": "code",
   "execution_count": 34,
   "metadata": {},
   "outputs": [
    {
     "name": "stdout",
     "output_type": "stream",
     "text": [
      "<class '__main__.Student'>\n",
      "Rita\n",
      "96\n",
      "This is student's attribute! My score is 96\n"
     ]
    }
   ],
   "source": [
    "class Person():\n",
    "    def __init__(self, n:str):  # n =參數\n",
    "        self.name = n\n",
    "        \n",
    "    def __repr__(self):\n",
    "        return f\"This is person's attribute! My name is {self.name}\"  #字串差補\n",
    "\n",
    "class Student(Person):  ##繼承父類別 Person, Student 是子類別\n",
    "    def __init__(self, name:str, scores:int):\n",
    "        super().__init__(name) # 執行父類別的initial\n",
    "        self.scores = scores\n",
    "    def __repr__(self):\n",
    "        return f\"This is student's attribute! My score is {self.scores}\"  #字串差補\n",
    "    \n",
    "s1 = Student(\"Rita\", 96)\n",
    "print(type(s1))\n",
    "print(s1.name)\n",
    "print(s1.scores)\n",
    "print(s1)"
   ]
  },
  {
   "cell_type": "code",
   "execution_count": 35,
   "metadata": {},
   "outputs": [
    {
     "name": "stdout",
     "output_type": "stream",
     "text": [
      "Rita\n",
      "This is person's attribute! My name is Rita\n"
     ]
    }
   ],
   "source": [
    "p1 = Person(\"Rita\")  #\"Rita\" 引數值\n",
    "print(p1.name)\n",
    "print(p1)\n",
    "\n"
   ]
  },
  {
   "cell_type": "code",
   "execution_count": 21,
   "metadata": {},
   "outputs": [
    {
     "data": {
      "text/plain": [
       "'My name is Rita'"
      ]
     },
     "execution_count": 21,
     "metadata": {},
     "output_type": "execute_result"
    }
   ],
   "source": [
    "name = \"Rita\"\n",
    "f\"My name is {name}\"  #字串差補\n",
    "\n",
    "\n"
   ]
  },
  {
   "cell_type": "code",
   "execution_count": 44,
   "metadata": {},
   "outputs": [
    {
     "name": "stdout",
     "output_type": "stream",
     "text": [
      "<class '__main__.Student'>\n",
      "Rita\n",
      "This is Studen't attribute\n",
      "My name is Rita\n",
      "Chinese is 100\n",
      "Chinese is 100\n",
      "Chinese is 100\n",
      "\n"
     ]
    }
   ],
   "source": [
    "class Person():\n",
    "    def __init__(self, n:str):  # n =參數\n",
    "        self.name = n\n",
    "        \n",
    "    def __repr__(self):\n",
    "        return f\"This is person's attribute! My name is {self.name}\"  #字串差補\n",
    "\n",
    "class Student(Person):  ##繼承父類別 Person, Student 是子類別\n",
    "    def __init__(self, name:str, chinese:int, english:int, math:int):\n",
    "        super().__init__(name) # 執行父類別的initial\n",
    "        self.chinese = chinese\n",
    "        self.english = english\n",
    "        self.math = math\n",
    "\n",
    "    def __repr__(self):  #representation\n",
    "        message = \"\"\n",
    "        message += \"This is Studen't attribute\\n\" \n",
    "        message += f\"My name is {self.name}\\n\"\n",
    "        message += f\"Chinese is {self.chinese}\\n\"\n",
    "        message += f\"Chinese is {self.english}\\n\"\n",
    "        message += f\"Chinese is {self.math}\\n\"\n",
    "        return message\n",
    "\n",
    "    \n",
    "s1 = Student(\"Rita\", 96, 99, 90)\n",
    "print(type(s1))\n",
    "\n",
    "s1.chinese=100  #可以被覆蓋\n",
    "s1.english=100\n",
    "s1.math=100\n",
    "\n",
    "print(s1.name)\n",
    "\n",
    "print(s1)\n",
    "\n"
   ]
  }
 ],
 "metadata": {
  "kernelspec": {
   "display_name": "Python 3",
   "language": "python",
   "name": "python3"
  },
  "language_info": {
   "codemirror_mode": {
    "name": "ipython",
    "version": 3
   },
   "file_extension": ".py",
   "mimetype": "text/x-python",
   "name": "python",
   "nbconvert_exporter": "python",
   "pygments_lexer": "ipython3",
   "version": "3.10.13"
  }
 },
 "nbformat": 4,
 "nbformat_minor": 2
}
