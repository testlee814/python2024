{
 "cells": [
  {
   "cell_type": "code",
   "execution_count": 2,
   "metadata": {},
   "outputs": [
    {
     "data": {
      "text/plain": [
       "__main__.Person"
      ]
     },
     "execution_count": 2,
     "metadata": {},
     "output_type": "execute_result"
    }
   ],
   "source": [
    "class Person():\n",
    "    pass \n",
    "p1 = Person()\n",
    "type(p1)"
   ]
  },
  {
   "cell_type": "code",
   "execution_count": 5,
   "metadata": {},
   "outputs": [
    {
     "name": "stdout",
     "output_type": "stream",
     "text": [
      "Rita\n",
      "Rita\n"
     ]
    }
   ],
   "source": [
    "class Person():\n",
    "    def __init__(self):\n",
    "        self.name = \"Rita\" \n",
    "p1 = Person()\n",
    "print(p1.name)\n",
    "\n",
    "p2 = Person()\n",
    "print(p2.name)\n",
    "\n"
   ]
  },
  {
   "cell_type": "code",
   "execution_count": 14,
   "metadata": {},
   "outputs": [
    {
     "name": "stdout",
     "output_type": "stream",
     "text": [
      "Rita\n",
      "Joy\n"
     ]
    }
   ],
   "source": [
    "class Person():\n",
    "    def __init__(self,n):  # 自訂的初始化\n",
    "        self.name = n # 建立attribute , 將n的值再傳給 name\n",
    "    def __repr__(self):\n",
    "        return \"我是Person的實體\"\n",
    "p1 = Person(\"Rita\")  # 要加入引數值 將值傳給n\n",
    "print(p1.name)\n",
    "\n",
    "p2 = Person(\"Joy\")\n",
    "print(p2.name)"
   ]
  },
  {
   "cell_type": "code",
   "execution_count": 18,
   "metadata": {},
   "outputs": [
    {
     "name": "stdout",
     "output_type": "stream",
     "text": [
      "This is person's attribute! My name is {name}\n",
      "我是Person的實體\n"
     ]
    }
   ],
   "source": [
    "print(p1)\n",
    "print(p2)"
   ]
  },
  {
   "cell_type": "code",
   "execution_count": 24,
   "metadata": {},
   "outputs": [],
   "source": [
    "class Person():\n",
    "    def __init__(self, n:str):\n",
    "        self.name = n\n",
    "    def __repr__(self):\n",
    "        return f\"This is person's attribute! My name is {self.name}\"  #字串差補\n",
    "    \n"
   ]
  },
  {
   "cell_type": "code",
   "execution_count": 25,
   "metadata": {},
   "outputs": [
    {
     "name": "stdout",
     "output_type": "stream",
     "text": [
      "Rita\n",
      "This is person's attribute! My name is Rita\n"
     ]
    }
   ],
   "source": [
    "p1 = Person(\"Rita\")\n",
    "print(p1.name)\n",
    "print(p1)\n",
    "\n"
   ]
  },
  {
   "cell_type": "code",
   "execution_count": 21,
   "metadata": {},
   "outputs": [
    {
     "data": {
      "text/plain": [
       "'My name is Rita'"
      ]
     },
     "execution_count": 21,
     "metadata": {},
     "output_type": "execute_result"
    }
   ],
   "source": [
    "name = \"Rita\"\n",
    "f\"My name is {name}\"  #字串差補\n",
    "\n",
    "\n"
   ]
  }
 ],
 "metadata": {
  "kernelspec": {
   "display_name": "Python 3",
   "language": "python",
   "name": "python3"
  },
  "language_info": {
   "codemirror_mode": {
    "name": "ipython",
    "version": 3
   },
   "file_extension": ".py",
   "mimetype": "text/x-python",
   "name": "python",
   "nbconvert_exporter": "python",
   "pygments_lexer": "ipython3",
   "version": "3.10.13"
  }
 },
 "nbformat": 4,
 "nbformat_minor": 2
}
