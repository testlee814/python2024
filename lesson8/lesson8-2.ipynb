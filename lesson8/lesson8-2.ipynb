{
 "cells": [
  {
   "cell_type": "code",
   "execution_count": 16,
   "metadata": {},
   "outputs": [],
   "source": [
    "from dataclasses import dataclass\n",
    "\n",
    "@dataclass\n",
    "class Student:\n",
    "    name:str  #欄位 Field\n",
    "    chinese:int\n",
    "    english:int\n",
    "    math:int\n",
    "\n",
    "    @property  #不用刮號\n",
    "    def sum(self)->int:\n",
    "        return self.chinese + self.english + self.math \n",
    "    \n",
    "    def average(self)->float: #method要刮號\n",
    "        return round(self.sum / 3, ndigits=2)\n"
   ]
  },
  {
   "cell_type": "code",
   "execution_count": 19,
   "metadata": {},
   "outputs": [
    {
     "name": "stdout",
     "output_type": "stream",
     "text": [
      "Rita\n",
      "90\n",
      "99\n",
      "89\n",
      "總分數為 278\n",
      "平均分數為 92.67\n"
     ]
    }
   ],
   "source": [
    "s1 = Student(\"Rita\", math=89, chinese=90, english=99)  #引數名稱呼叫 可以不照順序 \n",
    "print(s1.name)\n",
    "print(s1.chinese)\n",
    "print(s1.english)\n",
    "print(s1.math)\n",
    "print(\"總分數為\", s1.sum) #不用刮號\n",
    "print(\"平均分數為\", s1.average()) #method要刮號\n"
   ]
  }
 ],
 "metadata": {
  "kernelspec": {
   "display_name": "Python 3",
   "language": "python",
   "name": "python3"
  },
  "language_info": {
   "codemirror_mode": {
    "name": "ipython",
    "version": 3
   },
   "file_extension": ".py",
   "mimetype": "text/x-python",
   "name": "python",
   "nbconvert_exporter": "python",
   "pygments_lexer": "ipython3",
   "version": "3.10.13"
  }
 },
 "nbformat": 4,
 "nbformat_minor": 2
}
