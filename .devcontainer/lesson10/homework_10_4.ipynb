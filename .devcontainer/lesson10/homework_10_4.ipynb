{
 "cells": [
  {
   "cell_type": "code",
   "execution_count": null,
   "metadata": {},
   "outputs": [],
   "source": [
    "from pydantic import BaseModel, Field\n",
    "\n",
    "class Site(BaseModel):\n",
    "    Name_Ins:str = Field(alias='Name_Ins')\n",
    "    No:str = Field(alias='No')\n",
    "    Address:str = Field(alias='Address')\n",
    "    tax_ID_number:str = Field(alias='tax_ID_number')\n",
    "    wgs84aX:str = Field(alias='wgs84aX')\n",
    "    wgs84a:str = Field(alias='wgs84a')\n",
    "\n",
    "                                                                                                                                                                                                                                                                                                                                   \n",
    "class AQI(BaseModel):\n",
    "    records:list[Site]\n",
    "\n",
    "import json  #提供json module\n",
    "\n",
    "with open(\"Newtaipeifood.json\",encoding=\"utf-8\",newline='') as file:   \n",
    "    content:str = file.read() \n",
    "    aqi:AQI = AQI.model_validate_json(content)  \n",
    "\n",
    "sites:list[Site] = aqi.records\n",
    "\n",
    "for site in sites:\n",
    "    print(site)\n",
    "    print(type(site))\n"
   ]
  },
  {
   "cell_type": "code",
   "execution_count": 7,
   "metadata": {},
   "outputs": [
    {
     "ename": "KeyError",
     "evalue": "'result_record'",
     "output_type": "error",
     "traceback": [
      "\u001b[0;31m---------------------------------------------------------------------------\u001b[0m",
      "\u001b[0;31mKeyError\u001b[0m                                  Traceback (most recent call last)",
      "Cell \u001b[0;32mIn[7], line 6\u001b[0m\n\u001b[1;32m      4\u001b[0m     content:\u001b[38;5;28mstr\u001b[39m \u001b[38;5;241m=\u001b[39m file\u001b[38;5;241m.\u001b[39mread()\n\u001b[1;32m      5\u001b[0m     data \u001b[38;5;241m=\u001b[39m json\u001b[38;5;241m.\u001b[39mloads(content)  \u001b[38;5;66;03m# data is dictionary {}\u001b[39;00m\n\u001b[0;32m----> 6\u001b[0m     sites:\u001b[38;5;28mlist\u001b[39m[\u001b[38;5;28mdict\u001b[39m] \u001b[38;5;241m=\u001b[39m \u001b[43mdata\u001b[49m\u001b[43m[\u001b[49m\u001b[38;5;124;43m'\u001b[39;49m\u001b[38;5;124;43mresult_record\u001b[39;49m\u001b[38;5;124;43m'\u001b[39;49m\u001b[43m]\u001b[49m \u001b[38;5;66;03m# 只能抓一次 所以要用list存\u001b[39;00m\n\u001b[1;32m      8\u001b[0m \u001b[38;5;28;01mfor\u001b[39;00m site \u001b[38;5;129;01min\u001b[39;00m sites:\n\u001b[1;32m      9\u001b[0m     \u001b[38;5;28mprint\u001b[39m(site)\n",
      "\u001b[0;31mKeyError\u001b[0m: 'result_record'"
     ]
    }
   ],
   "source": [
    "import json  #提供json module\n",
    "\n",
    "with open(\"Newtaipeifood.json\",encoding=\"utf-8\",newline='') as file:   \n",
    "    content:str = file.read()\n",
    "    data = json.loads(content)  # data is dictionary {}\n",
    "    sites:list[dict] = data['result_record'] # 只能抓一次 所以要用list存\n",
    "\n",
    "for site in sites:\n",
    "    print(site)\n",
    "    print(data)\n",
    "    print(type(data))"
   ]
  },
  {
   "cell_type": "code",
   "execution_count": null,
   "metadata": {},
   "outputs": [],
   "source": [
    "import json  #提供json module\n",
    "\n",
    "with open(\"aqx_p_488.json\",encoding=\"utf-8\",newline='') as file:   \n",
    "    content:str = file.read()\n",
    "    data:dict = json.loads(content)  # data is dictionary {}\n",
    "    sites:list[dict] = data['records'] # 只能抓一次 所以要用list存\n",
    "\n",
    "for site in sites:\n",
    "    print(site)"
   ]
  }
 ],
 "metadata": {
  "kernelspec": {
   "display_name": "Python 3",
   "language": "python",
   "name": "python3"
  },
  "language_info": {
   "codemirror_mode": {
    "name": "ipython",
    "version": 3
   },
   "file_extension": ".py",
   "mimetype": "text/x-python",
   "name": "python",
   "nbconvert_exporter": "python",
   "pygments_lexer": "ipython3",
   "version": "3.10.13"
  }
 },
 "nbformat": 4,
 "nbformat_minor": 2
}
