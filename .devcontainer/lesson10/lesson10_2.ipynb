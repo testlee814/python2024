{
 "cells": [
  {
   "cell_type": "code",
   "execution_count": 3,
   "metadata": {},
   "outputs": [],
   "source": [
    "from pydantic import BaseModel\n",
    "\n",
    "class Person(BaseModel):  #繼承basemodel\n",
    "    first_name:str\n",
    "    last_name:str\n",
    "    age:int\n",
    "    "
   ]
  },
  {
   "cell_type": "code",
   "execution_count": 5,
   "metadata": {},
   "outputs": [
    {
     "name": "stdout",
     "output_type": "stream",
     "text": [
      "John\n",
      "Smith\n",
      "40\n",
      "first_name='John' last_name='Smith' age=40\n"
     ]
    }
   ],
   "source": [
    "p1 = Person(first_name='John', last_name='Smith', age=40)  #要用引數名稱的呼叫\n",
    "print(p1.first_name)\n",
    "print(p1.last_name)\n",
    "print(p1.age)\n",
    "print(p1)\n",
    "\n"
   ]
  },
  {
   "cell_type": "code",
   "execution_count": 7,
   "metadata": {},
   "outputs": [
    {
     "data": {
      "text/plain": [
       "Person(first_name='John', last_name='Smith', age=40)"
      ]
     },
     "execution_count": 7,
     "metadata": {},
     "output_type": "execute_result"
    }
   ],
   "source": [
    "p2 = Person(first_name='John', last_name='Smith', age='40')  #會自動幫你轉成 age str 會幫你轉成 int\n",
    "p2"
   ]
  },
  {
   "cell_type": "code",
   "execution_count": 12,
   "metadata": {},
   "outputs": [
    {
     "name": "stdout",
     "output_type": "stream",
     "text": [
      "1 validation error for Person\n",
      "age\n",
      "  Input should be a valid integer, unable to parse string as an integer [type=int_parsing, input_value='40a', input_type=str]\n",
      "    For further information visit https://errors.pydantic.dev/2.7/v/int_parsing\n"
     ]
    }
   ],
   "source": [
    "try:\n",
    "    p3 = Person(first_name='John', last_name='Smith', age='40a')  #會自動幫你 檢查資料格式\n",
    "    print(p3)\n",
    "except Exception as e:  #優雅的告訴你error\n",
    "    print(e)"
   ]
  },
  {
   "cell_type": "code",
   "execution_count": 23,
   "metadata": {},
   "outputs": [
    {
     "data": {
      "text/plain": [
       "Person(first_name='John', last_name='Smith', age=42)"
      ]
     },
     "execution_count": 23,
     "metadata": {},
     "output_type": "execute_result"
    }
   ],
   "source": [
    "data:dict = {\n",
    "    \"first_name\" :\"John\",\n",
    "    \"last_name\" :\"Smith\",\n",
    "    \"age\" : 42,\n",
    "}\n",
    "\n",
    "p4 = Person.model_validate(data)  # Person(class's method)\n",
    "p4\n"
   ]
  },
  {
   "cell_type": "code",
   "execution_count": 21,
   "metadata": {},
   "outputs": [
    {
     "data": {
      "text/plain": [
       "Person(first_name='John', last_name='Smith', age=42)"
      ]
     },
     "execution_count": 21,
     "metadata": {},
     "output_type": "execute_result"
    }
   ],
   "source": [
    "# dictionary 變成 person的實體， json格式的字串 \n",
    "# ''' 是多重字串 最後不能有, \n",
    "data_json:str = '''\n",
    "{\n",
    "    \"first_name\" :\"John\",\n",
    "    \"last_name\" :\"Smith\",\n",
    "    \"age\" : 42\n",
    "}\n",
    "'''\n",
    "p5 = Person.model_validate_json(data_json)  # Person(class's method)  \n",
    "p5\n"
   ]
  },
  {
   "cell_type": "code",
   "execution_count": 33,
   "metadata": {},
   "outputs": [
    {
     "name": "stdout",
     "output_type": "stream",
     "text": [
      "first_name='John' last_name='' age=18\n"
     ]
    }
   ],
   "source": [
    "class Person(BaseModel):\n",
    "    first_name:str  #required\n",
    "    last_name:str | None = ''  #option的欄位\n",
    "    age:int =18  #option的欄位\n",
    "\n",
    "data_json:str = '''\n",
    "{\n",
    "    \"first_name\" :\"John\"\n",
    "    \n",
    "}\n",
    "'''\n",
    "\n",
    "p6 = Person.model_validate_json(data_json)\n",
    "print(p6)"
   ]
  },
  {
   "cell_type": "code",
   "execution_count": 50,
   "metadata": {},
   "outputs": [
    {
     "data": {
      "text/plain": [
       "Person(first_name='John', last_name='Smith', age=42, lucky_numbers=[1, 3, 5, 7, 9])"
      ]
     },
     "execution_count": 50,
     "metadata": {},
     "output_type": "execute_result"
    }
   ],
   "source": [
    "class Person(BaseModel):\n",
    "    first_name:str  #required\n",
    "    last_name:str | None = None   #option的欄位\n",
    "    age:int = 18 #option的欄位\n",
    "    lucky_numbers:list[int]\n",
    "    \n",
    "data_json:str = '''\n",
    "{\n",
    "    \"first_name\" :\"John\",\n",
    "    \"last_name\" :\"Smith\",\n",
    "    \"age\": 42,\n",
    "    \"lucky_numbers\":[1,3,5,7,9] \n",
    "}\n",
    "'''\n",
    "p7 = Person.model_validate_json(data_json)\n",
    "p7"
   ]
  },
  {
   "cell_type": "code",
   "execution_count": 52,
   "metadata": {},
   "outputs": [
    {
     "data": {
      "text/plain": [
       "Person(id_=100, first_name='John', last_name='Smith', age=42)"
      ]
     },
     "execution_count": 52,
     "metadata": {},
     "output_type": "execute_result"
    }
   ],
   "source": [
    "from pydantic import BaseModel, Field\n",
    "data:str = '''\n",
    "{\n",
    "    \"id\":100,\n",
    "    \"first_name\" :\"John\",\n",
    "    \"last_name\" :\"Smith\",\n",
    "    \"age in years\" : 42  \n",
    "}\n",
    "'''\n",
    "\n",
    "class Person(BaseModel):\n",
    "    id_:int = Field(alias='id')\n",
    "    first_name:str = Field(alias='first_name')\n",
    "    last_name:str | None = Field(alias='last_name', default = None)\n",
    "    age:int = Field(alias = 'age in years', default =18)\n",
    "\n",
    "p8 = Person.model_validate_json(data)\n",
    "p8"
   ]
  },
  {
   "cell_type": "code",
   "execution_count": 66,
   "metadata": {},
   "outputs": [
    {
     "name": "stdout",
     "output_type": "stream",
     "text": [
      "first_name='Rita' last_name='Lee' born=Born(place=Place(country='Taiwan', city='Taichung'), date='1986-08-14')\n"
     ]
    },
    {
     "data": {
      "text/plain": [
       "'Taiwan'"
      ]
     },
     "execution_count": 66,
     "metadata": {},
     "output_type": "execute_result"
    }
   ],
   "source": [
    "# dictioanry 一定要用basemodel\n",
    "\n",
    "data = '''  \n",
    "{\n",
    "    \"first name\": \"Rita\",\n",
    "    \"last name\": \"Lee\",\n",
    "    \"born\":{\n",
    "        \"place\":{\n",
    "            \"country\": \"Taiwan\",\n",
    "            \"city\": \"Taichung\"\n",
    "        },\n",
    "        \"date\":\"1986-08-14\"\n",
    "    }\n",
    "}\n",
    "'''\n",
    "\n",
    "class Place(BaseModel):\n",
    "    country:str\n",
    "    city:str\n",
    "\n",
    "class Born(BaseModel):\n",
    "    place:Place\n",
    "    date:str\n",
    "\n",
    "class Person(BaseModel):\n",
    "    first_name:str = Field(alias = 'first name')\n",
    "    last_name:str = Field(alias = 'last name')\n",
    "    born:Born\n",
    "\n",
    "p9 = Person.model_validate_json(data)\n",
    "print(p9)\n",
    "p9.born.place.city\n",
    "p9.born.place.country\n",
    "\n"
   ]
  }
 ],
 "metadata": {
  "kernelspec": {
   "display_name": "Python 3",
   "language": "python",
   "name": "python3"
  },
  "language_info": {
   "codemirror_mode": {
    "name": "ipython",
    "version": 3
   },
   "file_extension": ".py",
   "mimetype": "text/x-python",
   "name": "python",
   "nbconvert_exporter": "python",
   "pygments_lexer": "ipython3",
   "version": "3.10.13"
  }
 },
 "nbformat": 4,
 "nbformat_minor": 2
}
