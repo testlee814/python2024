{
 "cells": [
  {
   "cell_type": "code",
   "execution_count": 10,
   "metadata": {},
   "outputs": [
    {
     "name": "stdout",
     "output_type": "stream",
     "text": [
      "<class '__main__.Student'>\n",
      "Rita\n",
      "Total scores is 286\n",
      "Average scores is 95.33\n",
      "This is Studen't attribute\n",
      "My name is Rita\n",
      "Chinese is 96\n",
      "English is 99\n",
      "Math is 91\n",
      "\n"
     ]
    }
   ],
   "source": [
    "class Person():\n",
    "    def __init__(self, n:str):  # n =參數\n",
    "        self.name = n\n",
    "        \n",
    "    def __repr__(self):\n",
    "        return f\"This is person's attribute! My name is {self.name}\"  #字串差補\n",
    "\n",
    "class Student(Person):  ##繼承父類別 Person, Student 是子類別\n",
    "    def __init__(self, name:str, chinese:int, english:int, math:int):\n",
    "        super().__init__(name) # 執行父類別的initial\n",
    "        self.__chinese = chinese  #加__的話就不能讀寫\n",
    "        self.__english = english\n",
    "        self.__math = math\n",
    "    \n",
    "    @property  # Property : Read only, 只能被讀取，無法修改\n",
    "    def chinese(self):\n",
    "        return self.__chinese \n",
    "\n",
    "    @property\n",
    "    def english(self):\n",
    "        return self.__english\n",
    "    \n",
    "    @property\n",
    "    def math(self):\n",
    "        return self.__math\n",
    "\n",
    "    def __repr__(self):  #representation\n",
    "        message = \"\"\n",
    "        message += \"This is Studen't attribute\\n\" \n",
    "        message += f\"My name is {self.name}\\n\"\n",
    "        message += f\"Chinese is {self.chinese}\\n\"\n",
    "        message += f\"English is {self.english}\\n\"\n",
    "        message += f\"Math is {self.math}\\n\"\n",
    "        return message\n",
    "\n",
    "    def sum(self) -> int: #實體的method \n",
    "        return self.chinese+self.english+self.math\n",
    "    \n",
    "    def average(self) -> float: #實體的method \n",
    "        return self.sum() / 3 #也可以在這邊用round (s1.average, ndigit =2)\n",
    "    \n",
    "s1 = Student(\"Rita\", 96, 99, 91)\n",
    "print(type(s1))\n",
    "print(s1.name)\n",
    "print(f\"Total scores is {s1.sum()}\")\n",
    "print(f\"Average scores is {round(s1.average(), ndigits = 2)}\")  #ndigits 是引數的呼叫\n",
    "print(s1)"
   ]
  }
 ],
 "metadata": {
  "kernelspec": {
   "display_name": "Python 3",
   "language": "python",
   "name": "python3"
  },
  "language_info": {
   "codemirror_mode": {
    "name": "ipython",
    "version": 3
   },
   "file_extension": ".py",
   "mimetype": "text/x-python",
   "name": "python",
   "nbconvert_exporter": "python",
   "pygments_lexer": "ipython3",
   "version": "3.10.13"
  }
 },
 "nbformat": 4,
 "nbformat_minor": 2
}
