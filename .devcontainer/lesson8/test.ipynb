{
 "cells": [
  {
   "cell_type": "code",
   "execution_count": 29,
   "metadata": {},
   "outputs": [
    {
     "name": "stdout",
     "output_type": "stream",
     "text": [
      "rita!  你的 20.70 恭喜你! 你的BMI在正常範圍內 請好好維持唷!!!\n",
      "rita, !, Your BMI is,  20.7\n",
      "The End\n"
     ]
    }
   ],
   "source": [
    "# attribute -> name,weight,height\n",
    "# property -> bmi\n",
    "# instance method -> status\n",
    "\n",
    "class BMI():\n",
    "    def __init__(self, name:str, height:float, weight:float) -> None:  # name =參數\n",
    "        self.name = name\n",
    "        self.height = height\n",
    "        self.weight = weight\n",
    "        \n",
    "\n",
    "    @property  # Property : Read only, 只能被讀取，無法修改\n",
    "    def BMI(self) -> float:\n",
    "        return self.weight / ((self.height / 100) ** 2)\n",
    "    \n",
    "    def status(self) -> None:\n",
    "        bmi = self.BMI\n",
    "        name = self.name\n",
    "\n",
    "        if bmi < 18.5:\n",
    "            print(f\"{name}! 太瘦了吧! 你的 {bmi:.2f} 低於18.5, 請多吃點!!\")\n",
    "        elif bmi <24:\n",
    "            print(f\"{name}!  你的 {bmi:.2f} 恭喜你! 你的BMI在正常範圍內 請好好維持唷!!!\")\n",
    "        elif bmi <27:\n",
    "            print(f\"{name}!  你的 {bmi:.2f} 你超過過重範圍囉 請好好運動吧\")\n",
    "        elif bmi <30:\n",
    "            print(f\"{name}!  你的 {bmi:.2f} 你是輕微肥胖者 請好好運動吧 好好減肥囉!\")\n",
    "        elif bmi <35:\n",
    "            print(f\"{name}!  你的 {bmi:.2f} 你是中度肥胖者 請注意身體 開始減肥吧!\")\n",
    "        else:\n",
    "            print(f\"{name}!  你的 {bmi:.2f} 你是重度肥胖者 請保持緊戒 認真減肥吧!\")\n",
    "\n",
    "try: #Raise exception\n",
    "    name = input(\"Please enter your name.\")\n",
    "    height = float(input(\"Please enter your height in cm\"))\n",
    "    weight = float(input(\"Please enter your weight in kg\"))\n",
    "\n",
    "    bmi_calculator = BMI(name, height, weight)\n",
    "    bmi_calculator.status()\n",
    "    \n",
    "    print(F\"{name}, !, Your BMI is, {bmi_calculator.BMI: .1f}\")\n",
    "\n",
    "except ValueError:\n",
    "    print(\"Format is wrong, please enter numbers!\") \n",
    "print(\"The End\") "
   ]
  }
 ],
 "metadata": {
  "kernelspec": {
   "display_name": "Python 3",
   "language": "python",
   "name": "python3"
  },
  "language_info": {
   "codemirror_mode": {
    "name": "ipython",
    "version": 3
   },
   "file_extension": ".py",
   "mimetype": "text/x-python",
   "name": "python",
   "nbconvert_exporter": "python",
   "pygments_lexer": "ipython3",
   "version": "3.10.13"
  }
 },
 "nbformat": 4,
 "nbformat_minor": 2
}
